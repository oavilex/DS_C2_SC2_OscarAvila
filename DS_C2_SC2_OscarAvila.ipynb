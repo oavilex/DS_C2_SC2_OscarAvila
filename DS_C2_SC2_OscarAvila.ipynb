{
  "nbformat": 4,
  "nbformat_minor": 0,
  "metadata": {
    "colab": {
      "provenance": [],
      "authorship_tag": "ABX9TyOUgfYL47ffdmckizCbmjI6",
      "include_colab_link": true
    },
    "kernelspec": {
      "name": "python3",
      "display_name": "Python 3"
    },
    "language_info": {
      "name": "python"
    }
  },
  "cells": [
    {
      "cell_type": "markdown",
      "metadata": {
        "id": "view-in-github",
        "colab_type": "text"
      },
      "source": [
        "<a href=\"https://colab.research.google.com/github/oavilex/DS_C2_SC2_OscarAvila/blob/main/DS_C2_SC2_OscarAvila.ipynb\" target=\"_parent\"><img src=\"https://colab.research.google.com/assets/colab-badge.svg\" alt=\"Open In Colab\"/></a>"
      ]
    },
    {
      "cell_type": "markdown",
      "source": [
        "# [💽]INSTALEMOS lo requerido"
      ],
      "metadata": {
        "id": "rGmG09dOQzuu"
      }
    },
    {
      "cell_type": "markdown",
      "source": [
        "Ya que crearemos un excel de salida requeriremos:"
      ],
      "metadata": {
        "id": "BRiiGERlQ9_g"
      }
    },
    {
      "cell_type": "code",
      "source": [
        "!pip install xlsxwriter"
      ],
      "metadata": {
        "colab": {
          "base_uri": "https://localhost:8080/"
        },
        "id": "g4wq9h5aRFPe",
        "outputId": "cdc28dd5-77e9-46f8-cda6-907751347e69"
      },
      "execution_count": 92,
      "outputs": [
        {
          "output_type": "stream",
          "name": "stdout",
          "text": [
            "Requirement already satisfied: xlsxwriter in /usr/local/lib/python3.11/dist-packages (3.2.2)\n"
          ]
        }
      ]
    },
    {
      "cell_type": "markdown",
      "source": [
        "# [♻️] Purgar directorio de trabajo"
      ],
      "metadata": {
        "id": "wdTq3-XSuDkh"
      }
    },
    {
      "cell_type": "markdown",
      "source": [
        "Ejecutar como paso 0 para eliminar todos los archivos que se descargaran o generaran durante los pasos posteriores"
      ],
      "metadata": {
        "id": "lo_ALsCfuMFQ"
      }
    },
    {
      "cell_type": "code",
      "execution_count": 94,
      "metadata": {
        "colab": {
          "base_uri": "https://localhost:8080/"
        },
        "id": "fDcsPansuAEx",
        "outputId": "956feb70-4564-4e61-ab02-25a28a5d6596"
      },
      "outputs": [
        {
          "output_type": "stream",
          "name": "stdout",
          "text": [
            "[♻️] Eliminado: sample_data/covid-world-vaccination-progress\n"
          ]
        }
      ],
      "source": [
        "import os\n",
        "import shutil\n",
        "\n",
        "def delete_recursive(path):\n",
        "    if os.path.exists(path):\n",
        "        if os.path.isfile(path) or os.path.islink(path):\n",
        "            os.remove(path)\n",
        "        elif os.path.isdir(path):\n",
        "            shutil.rmtree(path)\n",
        "        print(f\"[♻️] Eliminado: {path}\")\n",
        "    else:\n",
        "        print(f\"[🔴] La ruta no existe: {path}\")\n",
        "\n",
        "\n",
        "download_folder = os.path.expanduser(\"sample_data\")\n",
        "workspace = os.path.join(download_folder, \"covid-world-vaccination-progress\")\n",
        "\n",
        "delete_recursive(workspace)\n"
      ]
    },
    {
      "cell_type": "markdown",
      "source": [
        "# [🌎] Descarga fuente de informacion"
      ],
      "metadata": {
        "id": "S4kq2g82uRiQ"
      }
    },
    {
      "cell_type": "markdown",
      "source": [
        "Ejecutar solo si se desea descargar la fuente de informacion"
      ],
      "metadata": {
        "id": "i6vtw9S3uieH"
      }
    },
    {
      "cell_type": "code",
      "source": [
        "import os\n",
        "import requests\n",
        "import zipfile\n",
        "\n",
        "\n",
        "\n",
        "url = \"https://www.kaggle.com/api/v1/datasets/download/gpreda/covid-world-vaccination-progress\"\n",
        "\n",
        "download_folder = os.path.expanduser(\"sample_data\")\n",
        "zip_file_path = os.path.join(download_folder, \"covid-world-vaccination-progress.zip\")\n",
        "workspace = os.path.join(download_folder, \"covid-world-vaccination-progress\")\n",
        "\n",
        "os.makedirs(download_folder, exist_ok=True)\n",
        "os.makedirs(workspace, exist_ok=True)\n",
        "\n",
        "print(\"[🌎] Descargando archivo...\")\n",
        "try:\n",
        "    response = requests.get(url, stream=True)\n",
        "    response.raise_for_status()\n",
        "    with open(zip_file_path, \"wb\") as f:\n",
        "        for chunk in response.iter_content(chunk_size=1024):\n",
        "            f.write(chunk)\n",
        "    print(f\"  [🟢] Archivo descargado correctamente en: {zip_file_path}\")\n",
        "except requests.exceptions.RequestException as e:\n",
        "    print(f\"  [🔴]Error al descargar el archivo: {e}\")\n",
        "    exit()\n",
        "\n",
        "print(\"[📦] Desempaquetando archivo...\")\n",
        "try:\n",
        "    with zipfile.ZipFile(zip_file_path, 'r') as zip_ref:\n",
        "        zip_ref.extractall(workspace)\n",
        "    print(f\"  [🟢] Archivos desempaquetados en: {workspace}\")\n",
        "except Exception as e:\n",
        "    print(f\"  [🔴]Error  extrayendo el archivo ZIP: {e}\")\n",
        "    exit()\n",
        "\n",
        "print(\"[🔥] Eliminando archivo ZIP...\")\n",
        "try:\n",
        "    os.remove(zip_file_path)\n",
        "    print(f\"  [🟢] Archivo ZIP eliminado: {zip_file_path}\")\n",
        "except Exception as e:\n",
        "    print(f\"  [🔴] Error al eliminar el archivo ZIP: {e}\")\n",
        "    exit()\n"
      ],
      "metadata": {
        "colab": {
          "base_uri": "https://localhost:8080/"
        },
        "id": "DHt8wQ4TuRP7",
        "outputId": "a8bf3ff9-2477-47e1-8509-990fc0b8209b"
      },
      "execution_count": 95,
      "outputs": [
        {
          "output_type": "stream",
          "name": "stdout",
          "text": [
            "[🌎] Descargando archivo...\n",
            "  [🟢] Archivo descargado correctamente en: sample_data/covid-world-vaccination-progress.zip\n",
            "[📦] Desempaquetando archivo...\n",
            "  [🟢] Archivos desempaquetados en: sample_data/covid-world-vaccination-progress\n",
            "[🔥] Eliminando archivo ZIP...\n",
            "  [🟢] Archivo ZIP eliminado: sample_data/covid-world-vaccination-progress.zip\n"
          ]
        }
      ]
    },
    {
      "cell_type": "markdown",
      "source": [
        "# [🧑‍🔬] Analisis de informacion"
      ],
      "metadata": {
        "id": "fe_3vRi0vSNi"
      }
    },
    {
      "cell_type": "markdown",
      "source": [
        "-Recuerda descargar previamente la informacion con el paso de *[🌎] Descarga fuente de informacion*\n",
        "\n"
      ],
      "metadata": {
        "id": "kK3T2yvKvkMN"
      }
    },
    {
      "cell_type": "code",
      "source": [
        "import os\n",
        "import pandas as pd\n",
        "import numpy as np\n",
        "from tabulate import tabulate\n",
        "import warnings\n",
        "\n",
        "warnings.simplefilter(action='ignore', category=UserWarning)\n",
        "\n",
        "\n",
        "# ░░░░░░░░░░░░░░░░░░░░░░░░░░░░░\n",
        "# ░░░░░░░░░ VARIABLES ░░░░░░░░░\n",
        "# ░░░░░░░░░░░░░░░░░░░░░░░░░░░░░\n",
        "download_folder = os.path.expanduser(\"sample_data\")\n",
        "workspace = os.path.join(download_folder, \"covid-world-vaccination-progress\")\n",
        "studyObjectFile = os.path.join(workspace, \"country_vaccinations.csv\")\n",
        "\n",
        "try:\n",
        "  # a. Extraer la información del archivo.\n",
        "  print(\"░░░░░░░░░░░░░░░░░░░░░░░░░░░░░░░░░░░░░░░░░░░░░░░░░░░░░░░░░░░░░░░░░░░░░░░░░░░░░░\")\n",
        "  print(\"[a.  ][🐋] Lectura de la informacion\")\n",
        "  df = pd.read_csv(studyObjectFile)\n",
        "  print(\"[🐋] HECHO!!!\")\n",
        "  # b. Mostrar la estructura y tipos de datos de cada columna para identificar\n",
        "  print(\"░░░░░░░░░░░░░░░░░░░░░░░░░░░░░░░░░░░░░░░░░░░░░░░░░░░░░░░░░░░░░░░░░░░░░░░░░░░░░░\")\n",
        "  print(\"[b.  ][🔍] Estructura del DataFrame\")\n",
        "  print(type(df))\n",
        "  print(df.dtypes)#<- Muestro todas las columnas y los tipos que trae por default...\n",
        "  print(tabulate(df.head(5), headers='keys', tablefmt='fancy_grid'))#<- aqui analizo una muesta de la informacion presentado en una bonita tabla\n",
        "                                                              #para ver que puedo hacer con la informacion\n",
        "\n",
        "  # b.1 Convertir los campos de utilidad\n",
        "  print(\"░░░░░░░░░░░░░░░░░░░░░░░░░░░░░░░░░░░░░░░░░░░░░░░░░░░░░░░░░░░░░░░░░░░░░░░░░░░░░░\")\n",
        "  print(\"[b.1][ 🪄] Formateo de campo de fecha a datetime\")\n",
        "  df['date'] = pd.to_datetime(df['date'])\n",
        "\n",
        "  df['total_vaccinations'] = df['total_vaccinations'].fillna(0)#<- formateo el campo a operar\n",
        "  df['total_vaccinations'] = df['total_vaccinations'].astype(int)# <- me aseguro de que sean int\n",
        "\n",
        "  df['daily_vaccinations'] = df['daily_vaccinations'].fillna(0)#<- formateo el campo a operar\n",
        "  df['daily_vaccinations'] = df['daily_vaccinations'].astype(int)# <- me aseguro de que sean int\n",
        "\n",
        "  df['daily_vaccinations_raw'] = df['daily_vaccinations_raw'].fillna(0)#<- formateo el campo a operar\n",
        "  df['daily_vaccinations_raw'] = df['daily_vaccinations_raw'].astype(int)# <- me aseguro de que sean int\n",
        "\n",
        "  print(df.dtypes)\n",
        "  selected_columns = ['country', 'date', 'total_vaccinations', 'daily_vaccinations']#<-selecciono solo unas columnas\n",
        "  df_selected = df[selected_columns] #<- creo una copia con las columnas seleccionadas\n",
        "  print(f\"Esta es solo una muestra de las columnas {selected_columns}\")\n",
        "  print(tabulate(df_selected.head(5),headers='keys', tablefmt='fancy_grid'))#<- aqui despues de la convercion las fecha ya se ve con el formato YYYY-MM-DD HH:MM:SS\n",
        "  print(\"...imprimi solo los 5 primeros del datafframe\")\n",
        "\n",
        "  # c. Cantidad de vacunas aplicadas por compañía\n",
        "  print(\"░░░░░░░░░░░░░░░░░░░░░░░░░░░░░░░░░░░░░░░░░░░░░░░░░░░░░░░░░░░░░░░░░░░░░░░░░░░░░░\")\n",
        "  print(\"[c  ][🫟] Realizo una operacion de 🐼 para agrupar por [vaccines] y sumarizar el [total_vaccinations] y cuantas 💉 se aplicaron\")\n",
        "  vaccines_summary = df.groupby('vaccines')['total_vaccinations'].sum().reset_index()\n",
        "  print(tabulate(vaccines_summary.head(5), headers='keys', tablefmt='fancy_grid'))\n",
        "  print(\"...imprimi solo los 5 primeros del datafframe\")\n",
        "\n",
        "  # d. Total de vacunas aplicadas en todo el mundo\n",
        "  print(\"░░░░░░░░░░░░░░░░░░░░░░░░░░░░░░░░░░░░░░░░░░░░░░░░░░░░░░░░░░░░░░░░░░░░░░░░░░░░░░\")\n",
        "  print(\"[d  ][🫟] Realizo una operacion de 🐼 para agrupar todo y ver cuantas 💉 se aplicaron en todo el 🌎\")\n",
        "  total_vaccinations_worldwide = df['total_vaccinations'].sum()\n",
        "  print(f\"Total de 💉 aplicadas en todo el 🌎:[{total_vaccinations_worldwide}] \")\n",
        "\n",
        "  # e. Promedio de vacunas aplicadas por país\n",
        "  print(\"░░░░░░░░░░░░░░░░░░░░░░░░░░░░░░░░░░░░░░░░░░░░░░░░░░░░░░░░░░░░░░░░░░░░░░░░░░░░░░\")\n",
        "  print(\"[e  ][🫟] Realizo una operacion de 🐼 para agrupar por [country] y sumarizar el [total_vaccinations] y cuantas 💉 se aplicaron por pais\")\n",
        "  average_vaccinations_per_country = df.groupby('country')['total_vaccinations'].mean().reset_index()\n",
        "  print(tabulate(average_vaccinations_per_country.head(5), headers='keys', tablefmt='fancy_grid'))\n",
        "  print(\"...imprimi solo los 5 primeros del datafframe\")\n",
        "\n",
        "  # f. Vacunas aplicadas el 29/01/2021 en todo el mundo\n",
        "  print(\"░░░░░░░░░░░░░░░░░░░░░░░░░░░░░░░░░░░░░░░░░░░░░░░░░░░░░░░░░░░░░░░░░░░░░░░░░░░░░░\")\n",
        "  print(\"[f  ][🫟] Realizo una operacion de 🐼 seleccionar el 📆dia:[29/01/2021] y sumar cuantas 💉 se aplicaron\")\n",
        "  per_date = df.groupby('date')['total_vaccinations'].sum().reset_index()\n",
        "  search= pd.to_datetime('2021-01-29')\n",
        "  total_per_day = per_date[per_date['date'] == search]['total_vaccinations'].values[0]\n",
        "  print(f\"Total de 💉 aplicadas en todo el 🌎:[{total_per_day}] en el dia:[29/01/2021]\")\n",
        "\n",
        "  # g. Crear conDiferencias con la diferencia entre daily_vaccinations y daily_vaccinations_raw\n",
        "  print(\"░░░░░░░░░░░░░░░░░░░░░░░░░░░░░░░░░░░░░░░░░░░░░░░░░░░░░░░░░░░░░░░░░░░░░░░░░░░░░░\")\n",
        "  print(\"[g  ][🧮] Creo una copia del dataset oroginal pero con una columna [diferencias] que contiene la diferencia entre la columna [daily_vaccinations]y[daily_vaccinations_raw]\")\n",
        "  conDiferencias = df.copy()\n",
        "  conDiferencias['diferencias'] = conDiferencias['daily_vaccinations'] - conDiferencias['daily_vaccinations_raw']\n",
        "  selected_columns = ['country', 'date', 'daily_vaccinations', 'daily_vaccinations_raw',\"diferencias\"]#<-selecciono solo unas columnas\n",
        "  conDiferencias_selected = conDiferencias[selected_columns]\n",
        "  print(tabulate(conDiferencias_selected.head(5), headers='keys', tablefmt='fancy_grid'))\n",
        "\n",
        "  # h. Obtener el periodo de tiempo entre la fecha más reciente y la más antigua\n",
        "  print(\"░░░░░░░░░░░░░░░░░░░░░░░░░░░░░░░░░░░░░░░░░░░░░░░░░░░░░░░░░░░░░░░░░░░░░░░░░░░░░░\")\n",
        "  print(\"[h  ][🧮] Calculo el rango de dias de la muestra\")\n",
        "  min_date = df['date'].min()\n",
        "  max_date = df['date'].max()\n",
        "  time_period = max_date - min_date\n",
        "  print(f\"El periodo de tiempo entre la fecha más reciente y la más antigua es: {time_period}\")\n",
        "\n",
        "  #i. Crear un dataframe nuevo denominado conCantidad que contenga los datos originales\n",
        "  #y una columna derivada (canVac) con la cantidad de vacunas utilizadas cada día (usar la columna derivada\n",
        "  # (canVac) con la cantidad de vacunas utilizadas cada día (usar la columna vaccines y separar por el carácter ,\n",
        "  print(\"░░░░░░░░░░░░░░░░░░░░░░░░░░░░░░░░░░░░░░░░░░░░░░░░░░░░░░░░░░░░░░░░░░░░░░░░░░░░░░\")\n",
        "  print(\"[i  ][🧮] Creo una copia del dataset oroginal pero con una columna [canVac] que contiene el total de elementos que se encuentran en la columna string [vaccines] que esta separada por comas\")\n",
        "  conCantidad = df.copy()\n",
        "  conCantidad['canVac'] = conCantidad['vaccines'].str.count(',') + 1\n",
        "  conCantidad['canVac'] = conCantidad['canVac'].fillna(0).astype(int)\n",
        "  selected_columns = ['vaccines', 'canVac']#<-selecciono solo unas columnas\n",
        "  conCantidad_selected = conCantidad[selected_columns]\n",
        "  print(tabulate(conCantidad_selected.head(5), headers='keys', tablefmt='fancy_grid'))\n",
        "\n",
        "\n",
        "  # j. Filtrar registros antes del 20 de diciembre de 2020\n",
        "  print(\"░░░░░░░░░░░░░░░░░░░░░░░░░░░░░░░░░░░░░░░░░░░░░░░░░░░░░░░░░░░░░░░░░░░░░░░░░░░░░░\")\n",
        "  print(\"[j  ][🧮] Filtrar los registros anteriores al 20 de dic de 2020\")\n",
        "  print(f\" Total de la muestra original [{len(df)}] registros\")\n",
        "  antes20 = df[df['date'] < '2020-12-20'].copy()\n",
        "  print(f\" Total de la muestra filtrada [{len(antes20)}] registros\")\n",
        "  selected_columns = ['country', 'date', 'daily_vaccinations']\n",
        "  antes20_selected = antes20[selected_columns]\n",
        "  print(tabulate(antes20_selected.head(5), headers='keys', tablefmt='fancy_grid'))\n",
        "\n",
        "\n",
        "  # k. Filtrar registros donde se haya usado la vacuna Pfizer\n",
        "  print(\"░░░░░░░░░░░░░░░░░░░░░░░░░░░░░░░░░░░░░░░░░░░░░░░░░░░░░░░░░░░░░░░░░░░░░░░░░░░░░░\")\n",
        "  print(\"[j  ][🧮] Filtrar los registros anteriores donde se haya usado la vacuna Pfizer\")\n",
        "  print(f\" Total de la muestra original [{len(df)}] registros\")\n",
        "  pfizer = df[df['vaccines'].str.contains('Pfizer', na=False)].copy()\n",
        "  print(f\" Total de la muestra filtrada [{len(pfizer)}] registros\")\n",
        "  selected_columns = ['vaccines', 'date', 'daily_vaccinations']\n",
        "  pfizer_selected = pfizer[selected_columns]\n",
        "  print(tabulate(pfizer_selected.head(5), headers='keys', tablefmt='fancy_grid'))\n",
        "\n",
        "  # l. Guarda archivos de resultados\n",
        "  print(\"░░░░░░░░░░░░░░░░░░░░░░░░░░░░░░░░░░░░░░░░░░░░░░░░░░░░░░░░░░░░░░░░░░░░░░░░░░░░░░\")\n",
        "  print(\"[j  ][💾] Salvando los resultados\")\n",
        "  print(\"[🕛]Esto puede tomar un tiempo...🦥🦥🦥🦥🦥🦥🦥🦥🦥🦥🦥🦥🦥\")\n",
        "  resultados_folder = os.path.join(workspace, \"resultados\")\n",
        "  os.makedirs(resultados_folder, exist_ok=True)\n",
        "  excel_file_path = os.path.join(resultados_folder, \"resultadosReto.xlsx\")\n",
        "  with pd.ExcelWriter(excel_file_path, engine='xlsxwriter') as writer:\n",
        "    conDiferencias.to_excel(writer, sheet_name='conDiferencias', index=False)\n",
        "    conCantidad.to_excel(writer, sheet_name='conCantidad', index=False)\n",
        "    antes20.to_excel(writer, sheet_name='antes20', index=False)\n",
        "    pfizer.to_excel(writer, sheet_name='pfizer', index=False)\n",
        "\n",
        "  print(f\"[📂] Archivo guardado en:[{excel_file_path}]\")\n",
        "\n",
        "  print(\"░░░░░░░░░░░░░░░░░░░░░░░░░░░░░░░░░░░░░░░░░░░░░░░░░░░░░░░░░░░░░░░░░░░░░░░░░░░░░░END\")\n",
        "except Exception as e:\n",
        "  print(f\"[🔴]Error al procesar:[{e}]\")"
      ],
      "metadata": {
        "colab": {
          "base_uri": "https://localhost:8080/"
        },
        "id": "hQJPP7P2vyGH",
        "outputId": "90ca67d7-30f2-452c-d32e-8410aecb161e"
      },
      "execution_count": 96,
      "outputs": [
        {
          "output_type": "stream",
          "name": "stdout",
          "text": [
            "░░░░░░░░░░░░░░░░░░░░░░░░░░░░░░░░░░░░░░░░░░░░░░░░░░░░░░░░░░░░░░░░░░░░░░░░░░░░░░\n",
            "[a.  ][🐋] Lectura de la informacion\n",
            "[🐋] HECHO!!!\n",
            "░░░░░░░░░░░░░░░░░░░░░░░░░░░░░░░░░░░░░░░░░░░░░░░░░░░░░░░░░░░░░░░░░░░░░░░░░░░░░░\n",
            "[b.  ][🔍] Estructura del DataFrame\n",
            "<class 'pandas.core.frame.DataFrame'>\n",
            "country                                 object\n",
            "iso_code                                object\n",
            "date                                    object\n",
            "total_vaccinations                     float64\n",
            "people_vaccinated                      float64\n",
            "people_fully_vaccinated                float64\n",
            "daily_vaccinations_raw                 float64\n",
            "daily_vaccinations                     float64\n",
            "total_vaccinations_per_hundred         float64\n",
            "people_vaccinated_per_hundred          float64\n",
            "people_fully_vaccinated_per_hundred    float64\n",
            "daily_vaccinations_per_million         float64\n",
            "vaccines                                object\n",
            "source_name                             object\n",
            "source_website                          object\n",
            "dtype: object\n",
            "╒════╤═════════════╤════════════╤════════════╤══════════════════════╤═════════════════════╤═══════════════════════════╤══════════════════════════╤══════════════════════╤══════════════════════════════════╤═════════════════════════════════╤═══════════════════════════════════════╤══════════════════════════════════╤═════════════════════════════════════════════════════════════════════════╤═══════════════════════════╤══════════════════════════╕\n",
            "│    │ country     │ iso_code   │ date       │   total_vaccinations │   people_vaccinated │   people_fully_vaccinated │   daily_vaccinations_raw │   daily_vaccinations │   total_vaccinations_per_hundred │   people_vaccinated_per_hundred │   people_fully_vaccinated_per_hundred │   daily_vaccinations_per_million │ vaccines                                                                │ source_name               │ source_website           │\n",
            "╞════╪═════════════╪════════════╪════════════╪══════════════════════╪═════════════════════╪═══════════════════════════╪══════════════════════════╪══════════════════════╪══════════════════════════════════╪═════════════════════════════════╪═══════════════════════════════════════╪══════════════════════════════════╪═════════════════════════════════════════════════════════════════════════╪═══════════════════════════╪══════════════════════════╡\n",
            "│  0 │ Afghanistan │ AFG        │ 2021-02-22 │                    0 │                   0 │                       nan │                      nan │                  nan │                                0 │                               0 │                                   nan │                              nan │ Johnson&Johnson, Oxford/AstraZeneca, Pfizer/BioNTech, Sinopharm/Beijing │ World Health Organization │ https://covid19.who.int/ │\n",
            "├────┼─────────────┼────────────┼────────────┼──────────────────────┼─────────────────────┼───────────────────────────┼──────────────────────────┼──────────────────────┼──────────────────────────────────┼─────────────────────────────────┼───────────────────────────────────────┼──────────────────────────────────┼─────────────────────────────────────────────────────────────────────────┼───────────────────────────┼──────────────────────────┤\n",
            "│  1 │ Afghanistan │ AFG        │ 2021-02-23 │                  nan │                 nan │                       nan │                      nan │                 1367 │                              nan │                             nan │                                   nan │                               34 │ Johnson&Johnson, Oxford/AstraZeneca, Pfizer/BioNTech, Sinopharm/Beijing │ World Health Organization │ https://covid19.who.int/ │\n",
            "├────┼─────────────┼────────────┼────────────┼──────────────────────┼─────────────────────┼───────────────────────────┼──────────────────────────┼──────────────────────┼──────────────────────────────────┼─────────────────────────────────┼───────────────────────────────────────┼──────────────────────────────────┼─────────────────────────────────────────────────────────────────────────┼───────────────────────────┼──────────────────────────┤\n",
            "│  2 │ Afghanistan │ AFG        │ 2021-02-24 │                  nan │                 nan │                       nan │                      nan │                 1367 │                              nan │                             nan │                                   nan │                               34 │ Johnson&Johnson, Oxford/AstraZeneca, Pfizer/BioNTech, Sinopharm/Beijing │ World Health Organization │ https://covid19.who.int/ │\n",
            "├────┼─────────────┼────────────┼────────────┼──────────────────────┼─────────────────────┼───────────────────────────┼──────────────────────────┼──────────────────────┼──────────────────────────────────┼─────────────────────────────────┼───────────────────────────────────────┼──────────────────────────────────┼─────────────────────────────────────────────────────────────────────────┼───────────────────────────┼──────────────────────────┤\n",
            "│  3 │ Afghanistan │ AFG        │ 2021-02-25 │                  nan │                 nan │                       nan │                      nan │                 1367 │                              nan │                             nan │                                   nan │                               34 │ Johnson&Johnson, Oxford/AstraZeneca, Pfizer/BioNTech, Sinopharm/Beijing │ World Health Organization │ https://covid19.who.int/ │\n",
            "├────┼─────────────┼────────────┼────────────┼──────────────────────┼─────────────────────┼───────────────────────────┼──────────────────────────┼──────────────────────┼──────────────────────────────────┼─────────────────────────────────┼───────────────────────────────────────┼──────────────────────────────────┼─────────────────────────────────────────────────────────────────────────┼───────────────────────────┼──────────────────────────┤\n",
            "│  4 │ Afghanistan │ AFG        │ 2021-02-26 │                  nan │                 nan │                       nan │                      nan │                 1367 │                              nan │                             nan │                                   nan │                               34 │ Johnson&Johnson, Oxford/AstraZeneca, Pfizer/BioNTech, Sinopharm/Beijing │ World Health Organization │ https://covid19.who.int/ │\n",
            "╘════╧═════════════╧════════════╧════════════╧══════════════════════╧═════════════════════╧═══════════════════════════╧══════════════════════════╧══════════════════════╧══════════════════════════════════╧═════════════════════════════════╧═══════════════════════════════════════╧══════════════════════════════════╧═════════════════════════════════════════════════════════════════════════╧═══════════════════════════╧══════════════════════════╛\n",
            "░░░░░░░░░░░░░░░░░░░░░░░░░░░░░░░░░░░░░░░░░░░░░░░░░░░░░░░░░░░░░░░░░░░░░░░░░░░░░░\n",
            "[b.1][ 🪄] Formateo de campo de fecha a datetime\n",
            "country                                        object\n",
            "iso_code                                       object\n",
            "date                                   datetime64[ns]\n",
            "total_vaccinations                              int64\n",
            "people_vaccinated                             float64\n",
            "people_fully_vaccinated                       float64\n",
            "daily_vaccinations_raw                          int64\n",
            "daily_vaccinations                              int64\n",
            "total_vaccinations_per_hundred                float64\n",
            "people_vaccinated_per_hundred                 float64\n",
            "people_fully_vaccinated_per_hundred           float64\n",
            "daily_vaccinations_per_million                float64\n",
            "vaccines                                       object\n",
            "source_name                                    object\n",
            "source_website                                 object\n",
            "dtype: object\n",
            "Esta es solo una muestra de las columnas ['country', 'date', 'total_vaccinations', 'daily_vaccinations']\n",
            "╒════╤═════════════╤═════════════════════╤══════════════════════╤══════════════════════╕\n",
            "│    │ country     │ date                │   total_vaccinations │   daily_vaccinations │\n",
            "╞════╪═════════════╪═════════════════════╪══════════════════════╪══════════════════════╡\n",
            "│  0 │ Afghanistan │ 2021-02-22 00:00:00 │                    0 │                    0 │\n",
            "├────┼─────────────┼─────────────────────┼──────────────────────┼──────────────────────┤\n",
            "│  1 │ Afghanistan │ 2021-02-23 00:00:00 │                    0 │                 1367 │\n",
            "├────┼─────────────┼─────────────────────┼──────────────────────┼──────────────────────┤\n",
            "│  2 │ Afghanistan │ 2021-02-24 00:00:00 │                    0 │                 1367 │\n",
            "├────┼─────────────┼─────────────────────┼──────────────────────┼──────────────────────┤\n",
            "│  3 │ Afghanistan │ 2021-02-25 00:00:00 │                    0 │                 1367 │\n",
            "├────┼─────────────┼─────────────────────┼──────────────────────┼──────────────────────┤\n",
            "│  4 │ Afghanistan │ 2021-02-26 00:00:00 │                    0 │                 1367 │\n",
            "╘════╧═════════════╧═════════════════════╧══════════════════════╧══════════════════════╛\n",
            "...imprimi solo los 5 primeros del datafframe\n",
            "░░░░░░░░░░░░░░░░░░░░░░░░░░░░░░░░░░░░░░░░░░░░░░░░░░░░░░░░░░░░░░░░░░░░░░░░░░░░░░\n",
            "[c  ][🫟] Realizo una operacion de 🐼 para agrupar por [vaccines] y sumarizar el [total_vaccinations] y cuantas 💉 se aplicaron\n",
            "╒════╤════════════════════════════════════════════════════════════════════════════════════════════════════════════════════════════╤══════════════════════╕\n",
            "│    │ vaccines                                                                                                                   │   total_vaccinations │\n",
            "╞════╪════════════════════════════════════════════════════════════════════════════════════════════════════════════════════════════╪══════════════════════╡\n",
            "│  0 │ Abdala, Johnson&Johnson, Oxford/AstraZeneca, Pfizer/BioNTech, Soberana02, Sputnik Light, Sputnik V                         │            178434850 │\n",
            "├────┼────────────────────────────────────────────────────────────────────────────────────────────────────────────────────────────┼──────────────────────┤\n",
            "│  1 │ Abdala, Moderna, Oxford/AstraZeneca, Pfizer/BioNTech, Sinopharm/Beijing, Sputnik V                                         │          17914499152 │\n",
            "├────┼────────────────────────────────────────────────────────────────────────────────────────────────────────────────────────────┼──────────────────────┤\n",
            "│  2 │ Abdala, Sinopharm/Beijing, Sinovac, Soberana02, Sputnik Light, Sputnik V                                                   │            422856844 │\n",
            "├────┼────────────────────────────────────────────────────────────────────────────────────────────────────────────────────────────┼──────────────────────┤\n",
            "│  3 │ Abdala, Soberana Plus, Soberana02                                                                                          │           6405165573 │\n",
            "├────┼────────────────────────────────────────────────────────────────────────────────────────────────────────────────────────────┼──────────────────────┤\n",
            "│  4 │ COVIran Barekat, Covaxin, FAKHRAVAC, Oxford/AstraZeneca, Razi Cov Pars, Sinopharm/Beijing, Soberana02, SpikoGen, Sputnik V │          10694796486 │\n",
            "╘════╧════════════════════════════════════════════════════════════════════════════════════════════════════════════════════════════╧══════════════════════╛\n",
            "...imprimi solo los 5 primeros del datafframe\n",
            "░░░░░░░░░░░░░░░░░░░░░░░░░░░░░░░░░░░░░░░░░░░░░░░░░░░░░░░░░░░░░░░░░░░░░░░░░░░░░░\n",
            "[d  ][🫟] Realizo una operacion de 🐼 para agrupar todo y ver cuantas 💉 se aplicaron en todo el 🌎\n",
            "Total de 💉 aplicadas en todo el 🌎:[2002854013761] \n",
            "░░░░░░░░░░░░░░░░░░░░░░░░░░░░░░░░░░░░░░░░░░░░░░░░░░░░░░░░░░░░░░░░░░░░░░░░░░░░░░\n",
            "[e  ][🫟] Realizo una operacion de 🐼 para agrupar por [vaccines] y sumarizar el [total_vaccinations] y cuantas 💉 se aplicaron\n",
            "╒════╤═════════════╤══════════════════════╕\n",
            "│    │ country     │   total_vaccinations │\n",
            "╞════╪═════════════╪══════════════════════╡\n",
            "│  0 │ Afghanistan │             299598   │\n",
            "├────┼─────────────┼──────────────────────┤\n",
            "│  1 │ Albania     │             673213   │\n",
            "├────┼─────────────┼──────────────────────┤\n",
            "│  2 │ Algeria     │             589990   │\n",
            "├────┼─────────────┼──────────────────────┤\n",
            "│  3 │ Andorra     │               5926.5 │\n",
            "├────┼─────────────┼──────────────────────┤\n",
            "│  4 │ Angola      │             996770   │\n",
            "╘════╧═════════════╧══════════════════════╛\n",
            "...imprimi solo los 5 primeros del datafframe\n",
            "░░░░░░░░░░░░░░░░░░░░░░░░░░░░░░░░░░░░░░░░░░░░░░░░░░░░░░░░░░░░░░░░░░░░░░░░░░░░░░\n",
            "[f  ][🫟] Realizo una operacion de 🐼 seleccionar el 📆dia:[29/01/2021] y sumar cuantas 💉 se aplicaron\n",
            "Total de 💉 aplicadas en todo el 🌎:[82952931] en el dia:[29/01/2021]\n",
            "░░░░░░░░░░░░░░░░░░░░░░░░░░░░░░░░░░░░░░░░░░░░░░░░░░░░░░░░░░░░░░░░░░░░░░░░░░░░░░\n",
            "[g  ][🧮] Creo una copia del dataset oroginal pero con una columna [diferencias] que contiene la diferencia entre la columna [daily_vaccinations]y[daily_vaccinations_raw]\n",
            "╒════╤═════════════╤═════════════════════╤══════════════════════╤══════════════════════════╤═══════════════╕\n",
            "│    │ country     │ date                │   daily_vaccinations │   daily_vaccinations_raw │   diferencias │\n",
            "╞════╪═════════════╪═════════════════════╪══════════════════════╪══════════════════════════╪═══════════════╡\n",
            "│  0 │ Afghanistan │ 2021-02-22 00:00:00 │                    0 │                        0 │             0 │\n",
            "├────┼─────────────┼─────────────────────┼──────────────────────┼──────────────────────────┼───────────────┤\n",
            "│  1 │ Afghanistan │ 2021-02-23 00:00:00 │                 1367 │                        0 │          1367 │\n",
            "├────┼─────────────┼─────────────────────┼──────────────────────┼──────────────────────────┼───────────────┤\n",
            "│  2 │ Afghanistan │ 2021-02-24 00:00:00 │                 1367 │                        0 │          1367 │\n",
            "├────┼─────────────┼─────────────────────┼──────────────────────┼──────────────────────────┼───────────────┤\n",
            "│  3 │ Afghanistan │ 2021-02-25 00:00:00 │                 1367 │                        0 │          1367 │\n",
            "├────┼─────────────┼─────────────────────┼──────────────────────┼──────────────────────────┼───────────────┤\n",
            "│  4 │ Afghanistan │ 2021-02-26 00:00:00 │                 1367 │                        0 │          1367 │\n",
            "╘════╧═════════════╧═════════════════════╧══════════════════════╧══════════════════════════╧═══════════════╛\n",
            "░░░░░░░░░░░░░░░░░░░░░░░░░░░░░░░░░░░░░░░░░░░░░░░░░░░░░░░░░░░░░░░░░░░░░░░░░░░░░░\n",
            "[h  ][🧮] Calculo el rango de dias de la muestra\n",
            "El periodo de tiempo entre la fecha más reciente y la más antigua es: 482 days 00:00:00\n",
            "░░░░░░░░░░░░░░░░░░░░░░░░░░░░░░░░░░░░░░░░░░░░░░░░░░░░░░░░░░░░░░░░░░░░░░░░░░░░░░\n",
            "[i  ][🧮] Creo una copia del dataset oroginal pero con una columna [canVac] que contiene el total de elementos que se encuentran en la columna string [vaccines] que esta separada por comas\n",
            "╒════╤═════════════════════════════════════════════════════════════════════════╤══════════╕\n",
            "│    │ vaccines                                                                │   canVac │\n",
            "╞════╪═════════════════════════════════════════════════════════════════════════╪══════════╡\n",
            "│  0 │ Johnson&Johnson, Oxford/AstraZeneca, Pfizer/BioNTech, Sinopharm/Beijing │        4 │\n",
            "├────┼─────────────────────────────────────────────────────────────────────────┼──────────┤\n",
            "│  1 │ Johnson&Johnson, Oxford/AstraZeneca, Pfizer/BioNTech, Sinopharm/Beijing │        4 │\n",
            "├────┼─────────────────────────────────────────────────────────────────────────┼──────────┤\n",
            "│  2 │ Johnson&Johnson, Oxford/AstraZeneca, Pfizer/BioNTech, Sinopharm/Beijing │        4 │\n",
            "├────┼─────────────────────────────────────────────────────────────────────────┼──────────┤\n",
            "│  3 │ Johnson&Johnson, Oxford/AstraZeneca, Pfizer/BioNTech, Sinopharm/Beijing │        4 │\n",
            "├────┼─────────────────────────────────────────────────────────────────────────┼──────────┤\n",
            "│  4 │ Johnson&Johnson, Oxford/AstraZeneca, Pfizer/BioNTech, Sinopharm/Beijing │        4 │\n",
            "╘════╧═════════════════════════════════════════════════════════════════════════╧══════════╛\n",
            "░░░░░░░░░░░░░░░░░░░░░░░░░░░░░░░░░░░░░░░░░░░░░░░░░░░░░░░░░░░░░░░░░░░░░░░░░░░░░░\n",
            "[j  ][🧮] Filtrar los registros anteriores al 20 de dic de 2020\n",
            " Total de la muestra original [86512] registros\n",
            " Total de la muestra filtrada [70] registros\n",
            "╒═══════╤═══════════╤═════════════════════╤══════════════════════╕\n",
            "│       │ country   │ date                │   daily_vaccinations │\n",
            "╞═══════╪═══════════╪═════════════════════╪══════════════════════╡\n",
            "│ 13403 │ Canada    │ 2020-12-14 00:00:00 │                    0 │\n",
            "├───────┼───────────┼─────────────────────┼──────────────────────┤\n",
            "│ 13404 │ Canada    │ 2020-12-15 00:00:00 │                  722 │\n",
            "├───────┼───────────┼─────────────────────┼──────────────────────┤\n",
            "│ 13405 │ Canada    │ 2020-12-16 00:00:00 │                 1510 │\n",
            "├───────┼───────────┼─────────────────────┼──────────────────────┤\n",
            "│ 13406 │ Canada    │ 2020-12-17 00:00:00 │                 2425 │\n",
            "├───────┼───────────┼─────────────────────┼──────────────────────┤\n",
            "│ 13407 │ Canada    │ 2020-12-18 00:00:00 │                 2823 │\n",
            "╘═══════╧═══════════╧═════════════════════╧══════════════════════╛\n",
            "░░░░░░░░░░░░░░░░░░░░░░░░░░░░░░░░░░░░░░░░░░░░░░░░░░░░░░░░░░░░░░░░░░░░░░░░░░░░░░\n",
            "[j  ][🧮] Filtrar los registros anteriores donde se haya usado la vacuna Pfizer\n",
            " Total de la muestra original [86512] registros\n",
            " Total de la muestra filtrada [64193] registros\n",
            "╒════╤═════════════════════════════════════════════════════════════════════════╤═════════════════════╤══════════════════════╕\n",
            "│    │ vaccines                                                                │ date                │   daily_vaccinations │\n",
            "╞════╪═════════════════════════════════════════════════════════════════════════╪═════════════════════╪══════════════════════╡\n",
            "│  0 │ Johnson&Johnson, Oxford/AstraZeneca, Pfizer/BioNTech, Sinopharm/Beijing │ 2021-02-22 00:00:00 │                    0 │\n",
            "├────┼─────────────────────────────────────────────────────────────────────────┼─────────────────────┼──────────────────────┤\n",
            "│  1 │ Johnson&Johnson, Oxford/AstraZeneca, Pfizer/BioNTech, Sinopharm/Beijing │ 2021-02-23 00:00:00 │                 1367 │\n",
            "├────┼─────────────────────────────────────────────────────────────────────────┼─────────────────────┼──────────────────────┤\n",
            "│  2 │ Johnson&Johnson, Oxford/AstraZeneca, Pfizer/BioNTech, Sinopharm/Beijing │ 2021-02-24 00:00:00 │                 1367 │\n",
            "├────┼─────────────────────────────────────────────────────────────────────────┼─────────────────────┼──────────────────────┤\n",
            "│  3 │ Johnson&Johnson, Oxford/AstraZeneca, Pfizer/BioNTech, Sinopharm/Beijing │ 2021-02-25 00:00:00 │                 1367 │\n",
            "├────┼─────────────────────────────────────────────────────────────────────────┼─────────────────────┼──────────────────────┤\n",
            "│  4 │ Johnson&Johnson, Oxford/AstraZeneca, Pfizer/BioNTech, Sinopharm/Beijing │ 2021-02-26 00:00:00 │                 1367 │\n",
            "╘════╧═════════════════════════════════════════════════════════════════════════╧═════════════════════╧══════════════════════╛\n",
            "░░░░░░░░░░░░░░░░░░░░░░░░░░░░░░░░░░░░░░░░░░░░░░░░░░░░░░░░░░░░░░░░░░░░░░░░░░░░░░\n",
            "[j  ][💾] Salvando los resultados\n",
            "[🕛]Esto puede tomar un tiempo...🦥🦥🦥🦥🦥🦥🦥🦥🦥🦥🦥🦥🦥\n",
            "[📂] Archivo guardado en:[sample_data/covid-world-vaccination-progress/resultados/resultadosReto.xlsx]\n",
            "░░░░░░░░░░░░░░░░░░░░░░░░░░░░░░░░░░░░░░░░░░░░░░░░░░░░░░░░░░░░░░░░░░░░░░░░░░░░░░END\n"
          ]
        }
      ]
    }
  ]
}